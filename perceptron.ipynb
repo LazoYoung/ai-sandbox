{
 "cells": [
  {
   "cell_type": "markdown",
   "metadata": {},
   "source": [
    "![](resource/perceptron.png)"
   ]
  },
  {
   "cell_type": "markdown",
   "metadata": {},
   "source": [
    "## 파라미터 초기화\n",
    "\n",
    "퍼셉트론에 필요한 파라미터 변수를 무작위로 초기화하자\n",
    "- 입력값: X\n",
    "- 가중치: W\n",
    "- 편향치: b\n",
    "- 목표값:"
   ]
  },
  {
   "cell_type": "code",
   "metadata": {
    "ExecuteTime": {
     "end_time": "2025-07-07T13:20:42.418198Z",
     "start_time": "2025-07-07T13:20:42.415489Z"
    }
   },
   "source": [
    "import numpy as np\n",
    "np.random.seed(42)\n",
    "\n",
    "X = np.array([0.5, 0.5, 0.5])  # 입력값 = [0.5, 0.5, 0.5]\n",
    "W = np.random.rand(3)          # 가중치 3개 무작위 초기화\n",
    "b = np.random.rand(1)          # 편향치 1개 무작위 초기화\n",
    "y = np.array([-1])             # 목표값 = -1"
   ],
   "outputs": [],
   "execution_count": 18
  },
  {
   "cell_type": "code",
   "metadata": {
    "ExecuteTime": {
     "end_time": "2025-07-07T13:20:42.485912Z",
     "start_time": "2025-07-07T13:20:42.483568Z"
    }
   },
   "source": [
    "print(\"퍼셉트론 파라미터 초기값...\")\n",
    "print(\"W:\", W)\n",
    "print(\"b:\", b)"
   ],
   "outputs": [
    {
     "name": "stdout",
     "output_type": "stream",
     "text": [
      "퍼셉트론 파라미터 초기값...\n",
      "W: [0.37454012 0.95071431 0.73199394]\n",
      "b: [0.59865848]\n"
     ]
    }
   ],
   "execution_count": 19
  },
  {
   "cell_type": "markdown",
   "metadata": {},
   "source": [
    "## 예측 함수\n",
    "입력값을 가중치와 곱하고 편향치와 더하여 출력값 z를 계산하고,\n",
    "임계 함수에 통과시켜 예측값 y^을 도출하는 함수를 구현하자\n"
   ]
  },
  {
   "cell_type": "code",
   "metadata": {
    "ExecuteTime": {
     "end_time": "2025-07-07T13:20:42.547310Z",
     "start_time": "2025-07-07T13:20:42.544756Z"
    }
   },
   "source": [
    "# 예측 함수\n",
    "def predict(X, W, b):\n",
    "    z = np.dot(X, W) + b\n",
    "    return z\n",
    "\n",
    "# 임계 함수\n",
    "def threshold(z):\n",
    "    if z > 0:\n",
    "        return np.array([1])\n",
    "    else:\n",
    "        return np.array([-1])\n",
    "\n",
    "# 순전파 함수\n",
    "def forward(X, W, b):\n",
    "    z = predict(X, W, b)\n",
    "    y_hat = threshold(z)\n",
    "    return y_hat"
   ],
   "outputs": [],
   "execution_count": 20
  },
  {
   "cell_type": "code",
   "metadata": {
    "ExecuteTime": {
     "end_time": "2025-07-07T13:20:42.593996Z",
     "start_time": "2025-07-07T13:20:42.591251Z"
    }
   },
   "source": [
    "z = predict(X, W, b)\n",
    "y_hat = threshold(z)\n",
    "print(\"출력값 z =\", z)\n",
    "print(\"예측값 y^ =\", y_hat)\n",
    "print(\"목표값 y =\", y)"
   ],
   "outputs": [
    {
     "name": "stdout",
     "output_type": "stream",
     "text": [
      "출력값 z = [1.62728267]\n",
      "예측값 y^ = [1]\n",
      "목표값 y = [-1]\n"
     ]
    }
   ],
   "execution_count": 21
  },
  {
   "cell_type": "markdown",
   "metadata": {},
   "source": [
    "## 학습 구현\n",
    "모델의 가중치와 편향을 조절하여 예측 성능을 최적화하는 학습을 구현해보자\n"
   ]
  },
  {
   "cell_type": "code",
   "metadata": {
    "ExecuteTime": {
     "end_time": "2025-07-07T13:20:42.652671Z",
     "start_time": "2025-07-07T13:20:42.649111Z"
    }
   },
   "source": [
    "learning_rate = 0.1\n",
    "num_epochs = 10\n",
    "\n",
    "for epoch in range(num_epochs):\n",
    "    y_hat = forward(X, W, b)\n",
    "    error = y - y_hat\n",
    "    W = W + learning_rate * error * X\n",
    "    b = b + learning_rate * error\n",
    "    print(f\"[Epoch #{epoch + 1}] Error = {error}, W = {W}, b = {b}\")"
   ],
   "outputs": [
    {
     "name": "stdout",
     "output_type": "stream",
     "text": [
      "[Epoch #1] Error = [-2], W = [0.27454012 0.85071431 0.63199394], b = [0.39865848]\n",
      "[Epoch #2] Error = [-2], W = [0.17454012 0.75071431 0.53199394], b = [0.19865848]\n",
      "[Epoch #3] Error = [-2], W = [0.07454012 0.65071431 0.43199394], b = [-0.00134152]\n",
      "[Epoch #4] Error = [-2], W = [-0.02545988  0.55071431  0.33199394], b = [-0.20134152]\n",
      "[Epoch #5] Error = [-2], W = [-0.12545988  0.45071431  0.23199394], b = [-0.40134152]\n",
      "[Epoch #6] Error = [0], W = [-0.12545988  0.45071431  0.23199394], b = [-0.40134152]\n",
      "[Epoch #7] Error = [0], W = [-0.12545988  0.45071431  0.23199394], b = [-0.40134152]\n",
      "[Epoch #8] Error = [0], W = [-0.12545988  0.45071431  0.23199394], b = [-0.40134152]\n",
      "[Epoch #9] Error = [0], W = [-0.12545988  0.45071431  0.23199394], b = [-0.40134152]\n",
      "[Epoch #10] Error = [0], W = [-0.12545988  0.45071431  0.23199394], b = [-0.40134152]\n"
     ]
    }
   ],
   "execution_count": 22
  },
  {
   "cell_type": "code",
   "metadata": {
    "ExecuteTime": {
     "end_time": "2025-07-07T13:20:42.695067Z",
     "start_time": "2025-07-07T13:20:42.692323Z"
    }
   },
   "source": [
    "z = predict(X, W, b)\n",
    "y_hat = forward(X, W, b)\n",
    "print(\"Trained weights:\", W)\n",
    "print(\"Trained bias:\", b)\n",
    "print(\"Trained z:\", z)\n",
    "print(\"Predict y^:\", y_hat)"
   ],
   "outputs": [
    {
     "name": "stdout",
     "output_type": "stream",
     "text": [
      "Trained weights: [-0.12545988  0.45071431  0.23199394]\n",
      "Trained bias: [-0.40134152]\n",
      "Trained z: [-0.12271733]\n",
      "Predict y^: [-1]\n"
     ]
    }
   ],
   "execution_count": 23
  },
  {
   "cell_type": "markdown",
   "metadata": {},
   "source": [
    "## 특징 벡터\n",
    "퍼셉트론 모델의 가중치 $W$를 3차원 공간에서 해석하면 이진 분류기 결정평면을 관찰할 수 있다."
   ]
  },
  {
   "cell_type": "code",
   "metadata": {},
   "source": [
    "import numpy as np\n",
    "import matplotlib.pyplot as plt\n",
    "from mpl_toolkits.mplot3d import Axes3D\n",
    "\n",
    "def draw_plane_with_normal(normal_vector, point_on_plane=(0, 0, 0), plane_size=5, \n",
    "                          normal_length=3, figsize=(10, 8)):\n",
    "    \"\"\"\n",
    "    Draw a 2D plane in 3D space with its normal vector.\n",
    "    \n",
    "    Parameters:\n",
    "    -----------\n",
    "    normal_vector : tuple or list\n",
    "        The normal vector (nx, ny, nz) of the plane\n",
    "    point_on_plane : tuple, optional\n",
    "        A point that lies on the plane (default: origin)\n",
    "    plane_size : float, optional\n",
    "        Size of the plane to display (default: 5)\n",
    "    normal_length : float, optional\n",
    "        Length of the normal vector to display (default: 3)\n",
    "    figsize : tuple, optional\n",
    "        Figure size (default: (10, 8))\n",
    "    \"\"\"\n",
    "\n",
    "    # Convert to numpy arrays\n",
    "    normal = np.array(normal_vector)\n",
    "    point = np.array(point_on_plane)\n",
    "    \n",
    "    # Normalize the normal vector\n",
    "    normal_unit = normal / np.linalg.norm(normal)\n",
    "    \n",
    "    # Create two vectors perpendicular to the normal vector\n",
    "    # Find a vector not parallel to normal\n",
    "    if abs(normal_unit[0]) < 0.9:\n",
    "        v1 = np.array([1, 0, 0])\n",
    "    else:\n",
    "        v1 = np.array([0, 1, 0])\n",
    "    \n",
    "    # Create two orthogonal vectors in the plane\n",
    "    u = np.cross(normal_unit, v1)\n",
    "    u = u / np.linalg.norm(u)\n",
    "    v = np.cross(normal_unit, u)\n",
    "    v = v / np.linalg.norm(v)\n",
    "    \n",
    "    # Create a grid of points on the plane\n",
    "    s = np.linspace(-plane_size, plane_size, 20)\n",
    "    t = np.linspace(-plane_size, plane_size, 20)\n",
    "    S, T = np.meshgrid(s, t)\n",
    "    \n",
    "    # Calculate plane points\n",
    "    plane_points = (point[:, np.newaxis, np.newaxis] + \n",
    "                   S[np.newaxis, :, :] * u[:, np.newaxis, np.newaxis] + \n",
    "                   T[np.newaxis, :, :] * v[:, np.newaxis, np.newaxis])\n",
    "    \n",
    "    X = plane_points[0]\n",
    "    Y = plane_points[1]\n",
    "    Z = plane_points[2]\n",
    "    \n",
    "    # Create the 3D plot\n",
    "    fig = plt.figure(figsize=figsize)\n",
    "    ax = fig.add_subplot(111, projection='3d')\n",
    "    \n",
    "    # Draw the plane\n",
    "    ax.plot_surface(X, Y, Z, alpha=0.6, color='lightblue', \n",
    "                   edgecolor='none', label='Plane')\n",
    "    \n",
    "    # Draw the normal vector\n",
    "    normal_end = point + normal_length * normal_unit\n",
    "    ax.quiver(point[0], point[1], point[2], \n",
    "             normal_end[0] - point[0], normal_end[1] - point[1], normal_end[2] - point[2],\n",
    "             color='red', arrow_length_ratio=0.1, linewidth=3, label='Normal Vector')\n",
    "    \n",
    "    # Draw a point on the plane\n",
    "    ax.scatter(point[0], point[1], point[2], color='black', s=100, label='Point on Plane')\n",
    "    \n",
    "    # Add coordinate axes for reference\n",
    "    max_range = max(plane_size, normal_length) + 1\n",
    "    ax.plot([0, max_range], [0, 0], [0, 0], 'k--', alpha=0.3, linewidth=1)\n",
    "    ax.plot([0, 0], [0, max_range], [0, 0], 'k--', alpha=0.3, linewidth=1)\n",
    "    ax.plot([0, 0], [0, 0], [0, max_range], 'k--', alpha=0.3, linewidth=1)\n",
    "    \n",
    "    # Labels and formatting\n",
    "    ax.set_xlabel('X')\n",
    "    ax.set_ylabel('Y')\n",
    "    ax.set_zlabel('Z')\n",
    "    ax.set_title(f'Plane with Normal Vector {normal_vector}')\n",
    "    \n",
    "    # Set equal aspect ratio\n",
    "    ax.set_box_aspect([1,1,1])\n",
    "    \n",
    "    # Add text showing plane equation\n",
    "    d = -np.dot(normal, point)  # ax + by + cz + d = 0\n",
    "    equation = f'Plane equation: {normal[0]:.2f}x + {normal[1]:.2f}y + {normal[2]:.2f}z + {d:.2f} = 0'\n",
    "    ax.text2D(0.05, 0.95, equation, transform=ax.transAxes, fontsize=10,\n",
    "              bbox=dict(boxstyle=\"round,pad=0.3\", facecolor=\"yellow\", alpha=0.7))\n",
    "    \n",
    "    plt.tight_layout()\n",
    "    plt.show()\n",
    "\n",
    "\n",
    "coef = W.tolist()\n",
    "draw_plane_with_normal(coef)"
   ],
   "outputs": [],
   "execution_count": null
  },
  {
   "cell_type": "code",
   "metadata": {
    "ExecuteTime": {
     "end_time": "2025-07-07T13:20:43.134910Z",
     "start_time": "2025-07-07T13:20:43.133385Z"
    }
   },
   "source": [],
   "outputs": [],
   "execution_count": null
  },
  {
   "cell_type": "code",
   "metadata": {
    "ExecuteTime": {
     "end_time": "2025-07-07T13:20:43.178225Z",
     "start_time": "2025-07-07T13:20:43.176840Z"
    }
   },
   "source": [],
   "outputs": [],
   "execution_count": null
  }
 ],
 "metadata": {
  "colab": {
   "provenance": []
  },
  "kernelspec": {
   "display_name": "Python 3 (ipykernel)",
   "language": "python",
   "name": "python3"
  },
  "language_info": {
   "codemirror_mode": {
    "name": "ipython",
    "version": 3
   },
   "file_extension": ".py",
   "mimetype": "text/x-python",
   "name": "python",
   "nbconvert_exporter": "python",
   "pygments_lexer": "ipython3",
   "version": "3.12.11"
  }
 },
 "nbformat": 4,
 "nbformat_minor": 4
}
